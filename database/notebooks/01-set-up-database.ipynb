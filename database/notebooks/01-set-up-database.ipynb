{
    "metadata": {
        "kernelspec": {
            "name": "SQL",
            "display_name": "SQL",
            "language": "sql"
        },
        "language_info": {
            "name": "sql",
            "version": ""
        }
    },
    "nbformat_minor": 2,
    "nbformat": 4,
    "cells": [
        {
            "cell_type": "markdown",
            "source": [
                "# Set up Azure SQL Database for catching the bus application\n",
                "\n",
                "This is a SQL Notebook, which allows you to separate text and code blocks and save code results. Azure Data Studio supports several languages, referred to as kernels, including SQL, PowerShell, Python, and more.\n",
                "\n",
                "In this activity, you'll learn how to import data into Azure SQL Database and create tables to store the route data, geofence data, and real-time bus information.\n",
                "\n",
                "## Connect to `bus-db`\n",
                "\n",
                "At the top of the window, select **Select Connection** \\> **Change Connection** next to \"Attach to\".\n",
                "\n",
                "Under _Recent Connections_ select your `bus-db` connection.\n",
                "\n",
                "You should now see it listed next to _Attach to_."
            ],
            "metadata": {
                "azdata_cell_guid": "a2782576-c8ad-483e-bd03-289dd656844c"
            }
        },
        {
            "cell_type": "markdown",
            "source": [
                "## Part 1: Import the bus route data from Azure Blob Storage\n",
                "\n",
                "The first step in configuring the database for the scenario is to import a CSV file that contains route information data. The following script will walk you through that process. Full documentation on \"Accessing data in a CSV file referencing an Azure blob storage location\" here: [https://docs.microsoft.com/sql/relational-databases/import-export/examples-of-bulk-access-to-data-in-azure-blob-storage](https://docs.microsoft.com/sql/relational-databases/import-export/examples-of-bulk-access-to-data-in-azure-blob-storage).\n",
                "\n",
                "You need to first create a table and schema for data to be loaded into."
            ],
            "metadata": {
                "azdata_cell_guid": "f348fdae-e69a-4271-907d-e6b4e0619151"
            }
        },
        {
            "cell_type": "code",
            "source": [
                "CREATE TABLE [dbo].[Routes]\r\n",
                "(\r\n",
                "\t[Id] [int] NOT NULL,\r\n",
                "\t[AgencyId] [varchar](100) NULL,\r\n",
                "\t[ShortName] [varchar](100) NULL,\r\n",
                "\t[Description] [varchar](1000) NULL,\r\n",
                "\t[Type] [int] NULL\r\n",
                ")\r\n",
                "GO\r\n",
                "ALTER TABLE [dbo].[Routes] ADD PRIMARY KEY CLUSTERED \r\n",
                "(\r\n",
                "\t[Id] ASC\r\n",
                ")\r\n",
                "GO"
            ],
            "metadata": {
                "azdata_cell_guid": "c14329fd-fee4-4014-a77d-ed5b59785685",
                "language": "sql"
            },
            "outputs": [
                {
                    "output_type": "display_data",
                    "data": {
                        "text/html": "Commands completed successfully."
                    },
                    "metadata": {}
                },
                {
                    "output_type": "display_data",
                    "data": {
                        "text/html": "Commands completed successfully."
                    },
                    "metadata": {}
                },
                {
                    "output_type": "display_data",
                    "data": {
                        "text/html": "Total execution time: 00:00:00.083"
                    },
                    "metadata": {}
                }
            ],
            "execution_count": 1
        },
        {
            "cell_type": "markdown",
            "source": [
                "The next step is to create a master key."
            ],
            "metadata": {
                "azdata_cell_guid": "962dcc3f-be18-4cc3-bdfc-d670c962a0dc"
            }
        },
        {
            "cell_type": "code",
            "source": [
                "CREATE MASTER KEY ENCRYPTION BY PASSWORD = 'mySuperStr0n9P@assw0rd!'"
            ],
            "metadata": {
                "azdata_cell_guid": "5a690353-b1f9-43b2-85e1-2a7467f7b3ad",
                "language": "sql"
            },
            "outputs": [
                {
                    "output_type": "error",
                    "evalue": "Msg 15578, Level 16, State 1, Line 1\r\nThere is already a master key in the database. Please drop it before performing this statement.",
                    "ename": "",
                    "traceback": []
                },
                {
                    "output_type": "display_data",
                    "data": {
                        "text/html": "Total execution time: 00:00:00.038"
                    },
                    "metadata": {}
                }
            ],
            "execution_count": 3
        },
        {
            "cell_type": "markdown",
            "source": [
                "A master key is required to create a `DATABASE SCOPED CREDENTIAL` value because Blob storage is not configured to allow public (anonymous) access. The credential refers to the Blob storage account, and the data portion specifies the container for the store return data.\n",
                "\n",
                "We use a shared access signature as the identity that Azure SQL knows how to interpret. The secret is the SAS token that you can generate from the Blob storage account. In this example, the SAS token for a storage account that you don't have access to is provided so you can access only the store return data."
            ],
            "metadata": {
                "azdata_cell_guid": "3a30a8e0-5054-471c-84f3-6e28dc47c694"
            }
        },
        {
            "cell_type": "code",
            "source": [
                "CREATE DATABASE SCOPED CREDENTIAL AzureBlobCredentials\r\n",
                "WITH IDENTITY = 'SHARED ACCESS SIGNATURE',\r\n",
                "SECRET = 'sp=r&st=2021-03-12T00:47:24Z&se=2025-03-11T07:47:24Z&spr=https&sv=2020-02-10&sr=c&sig=BmuxFevKhWgbvo%2Bj8TlLYObjbB7gbvWzQaAgvGcg50c%3D' -- Omit any leading question mark\r\n",
                ""
            ],
            "metadata": {
                "azdata_cell_guid": "92c0d495-d239-4dd1-b095-05f8fa0a6cef",
                "language": "sql"
            },
            "outputs": [
                {
                    "output_type": "display_data",
                    "data": {
                        "text/html": "Commands completed successfully."
                    },
                    "metadata": {}
                },
                {
                    "output_type": "display_data",
                    "data": {
                        "text/html": "Total execution time: 00:00:00.042"
                    },
                    "metadata": {}
                }
            ],
            "execution_count": 4
        },
        {
            "cell_type": "markdown",
            "source": [
                "Next, create an external data source to the container."
            ],
            "metadata": {
                "azdata_cell_guid": "bca17886-bcfa-4eaa-87b1-94e94e801ce7"
            }
        },
        {
            "cell_type": "code",
            "source": [
                "CREATE EXTERNAL DATA SOURCE RouteData\r\n",
                "WITH (\r\n",
                "\tTYPE = blob_storage,\r\n",
                "\tLOCATION = 'https://azuresqlworkshopsa.blob.core.windows.net/bus',\r\n",
                "\tCREDENTIAL = AzureBlobCredentials\r\n",
                ")"
            ],
            "metadata": {
                "azdata_cell_guid": "aea81643-4d8a-44b2-a915-8d797f036be5",
                "language": "sql"
            },
            "outputs": [
                {
                    "output_type": "display_data",
                    "data": {
                        "text/html": "Commands completed successfully."
                    },
                    "metadata": {}
                },
                {
                    "output_type": "display_data",
                    "data": {
                        "text/html": "Total execution time: 00:00:00.040"
                    },
                    "metadata": {}
                }
            ],
            "execution_count": 5
        },
        {
            "cell_type": "markdown",
            "source": [
                "Now you are ready to bring in the data."
            ],
            "metadata": {
                "azdata_cell_guid": "7658b21b-c9a0-4ffd-a2dc-7af3d0f87842"
            }
        },
        {
            "cell_type": "code",
            "source": [
                "DELETE FROM dbo.[Routes];\r\n",
                "INSERT INTO dbo.[Routes]\r\n",
                "\t([Id], [AgencyId], [ShortName], [Description], [Type])\r\n",
                "SELECT \r\n",
                "\t[Id], [AgencyId], [ShortName], [Description], [Type]\r\n",
                "FROM \r\n",
                "OPENROWSET\r\n",
                "\t( \r\n",
                "\t\tBULk 'routes.txt', \r\n",
                "\t\tDATA_SOURCE = 'RouteData', \r\n",
                "\t\tFORMATFILE = 'routes.fmt', \r\n",
                "\t\tFORMATFILE_DATA_SOURCE = 'RouteData', \r\n",
                "\t\tFIRSTROW=2,\r\n",
                "\t\tFORMAT='csv'\r\n",
                "\t) t;"
            ],
            "metadata": {
                "azdata_cell_guid": "3f642673-43ec-4215-91da-a3a37776fb2f",
                "tags": [],
                "language": "sql"
            },
            "outputs": [
                {
                    "output_type": "display_data",
                    "data": {
                        "text/html": "(0 rows affected)"
                    },
                    "metadata": {}
                },
                {
                    "output_type": "display_data",
                    "data": {
                        "text/html": "(132 rows affected)"
                    },
                    "metadata": {}
                },
                {
                    "output_type": "display_data",
                    "data": {
                        "text/html": "Total execution time: 00:00:02.918"
                    },
                    "metadata": {}
                }
            ],
            "execution_count": 6
        },
        {
            "cell_type": "markdown",
            "source": [
                "Finally, let's look at what's been inserted relative to the route we'll be tracking."
            ],
            "metadata": {
                "azdata_cell_guid": "622d6f84-6ece-4b52-a2a1-8666cec71128"
            }
        },
        {
            "cell_type": "code",
            "source": [
                "SELECT * FROM dbo.[Routes] WHERE [Description] LIKE '%Education Hill%'"
            ],
            "metadata": {
                "azdata_cell_guid": "48fa0ba2-64cb-4230-a9b2-e7264994d7d7",
                "language": "sql"
            },
            "outputs": [
                {
                    "output_type": "display_data",
                    "data": {
                        "text/html": "(1 row affected)"
                    },
                    "metadata": {}
                },
                {
                    "output_type": "display_data",
                    "data": {
                        "text/html": "Total execution time: 00:00:00.075"
                    },
                    "metadata": {}
                },
                {
                    "output_type": "execute_result",
                    "metadata": {},
                    "execution_count": 7,
                    "data": {
                        "application/vnd.dataresource+json": {
                            "schema": {
                                "fields": [
                                    {
                                        "name": "Id"
                                    },
                                    {
                                        "name": "AgencyId"
                                    },
                                    {
                                        "name": "ShortName"
                                    },
                                    {
                                        "name": "Description"
                                    },
                                    {
                                        "name": "Type"
                                    }
                                ]
                            },
                            "data": [
                                {
                                    "0": "100113",
                                    "1": "1",
                                    "2": "221",
                                    "3": "Education Hill - Crossroads - Eastgate",
                                    "4": "3"
                                }
                            ]
                        },
                        "text/html": [
                            "<table>",
                            "<tr><th>Id</th><th>AgencyId</th><th>ShortName</th><th>Description</th><th>Type</th></tr>",
                            "<tr><td>100113</td><td>1</td><td>221</td><td>Education Hill - Crossroads - Eastgate</td><td>3</td></tr>",
                            "</table>"
                        ]
                    }
                }
            ],
            "execution_count": 7
        },
        {
            "cell_type": "markdown",
            "source": [
                "## Part 2: Create necessary tables\n",
                "\n",
                "### Select a route to monitor\n",
                "\n",
                "Now that you've added the route information, you can select the route to be a \"Monitored Route\". This will come in handy if you later choose to monitor multiple routes. For now, you will just add the \"Education Hill - Crossroads - Eastgate\" route."
            ],
            "metadata": {
                "azdata_cell_guid": "102d8657-f5ab-4921-809d-d77fc9b41ad2"
            }
        },
        {
            "cell_type": "code",
            "source": [
                "-- Create MonitoredRoutes table\r\n",
                "CREATE TABLE [dbo].[MonitoredRoutes]\r\n",
                "(\r\n",
                "\t[RouteId] [int] NOT NULL\r\n",
                ")\r\n",
                "GO\r\n",
                "ALTER TABLE [dbo].[MonitoredRoutes] ADD PRIMARY KEY CLUSTERED \r\n",
                "(\r\n",
                "\t[RouteId] ASC\r\n",
                ")\r\n",
                "GO\r\n",
                "ALTER TABLE [dbo].[MonitoredRoutes] \r\n",
                "ADD CONSTRAINT [FK__MonitoredRoutes__Router] \r\n",
                "FOREIGN KEY ([RouteId]) REFERENCES [dbo].[Routes] ([Id])\r\n",
                "GO\r\n",
                "\r\n",
                "-- Monitor the \"Education Hill - Crossroads - Eastgate\" route\r\n",
                "INSERT INTO dbo.[MonitoredRoutes] (RouteId) VALUES (100113);"
            ],
            "metadata": {
                "azdata_cell_guid": "b8d596bf-0540-49fa-b206-ce52397c0459",
                "language": "sql"
            },
            "outputs": [
                {
                    "output_type": "display_data",
                    "data": {
                        "text/html": "Commands completed successfully."
                    },
                    "metadata": {}
                },
                {
                    "output_type": "display_data",
                    "data": {
                        "text/html": "Commands completed successfully."
                    },
                    "metadata": {}
                },
                {
                    "output_type": "display_data",
                    "data": {
                        "text/html": "Commands completed successfully."
                    },
                    "metadata": {}
                },
                {
                    "output_type": "display_data",
                    "data": {
                        "text/html": "(1 row affected)"
                    },
                    "metadata": {}
                },
                {
                    "output_type": "display_data",
                    "data": {
                        "text/html": "Total execution time: 00:00:00.143"
                    },
                    "metadata": {}
                }
            ],
            "execution_count": 8
        },
        {
            "cell_type": "markdown",
            "source": [
                "### Select a GeoFence to monitor\r\n",
                "\r\n",
                "In addition to monitoring specific bus routes, you will want to monitor certain GeoFences so you can ultimately get notified when your bus enters or exits where you are (i.e. the GeoFence). For now, you will add a small GeoFence that represents the area near the \"Crossroads\" bus stop."
            ],
            "metadata": {
                "azdata_cell_guid": "a53ad031-a7c3-40a9-bf5b-695a148dbea9"
            }
        },
        {
            "cell_type": "code",
            "source": [
                "-- Create GeoFences table\r\n",
                "CREATE SEQUENCE [dbo].[global]\r\n",
                "    AS INT\r\n",
                "    START WITH 1\r\n",
                "    INCREMENT BY 1\r\n",
                "GO\r\n",
                "CREATE TABLE [dbo].[GeoFences](\r\n",
                "\t[Id] [int] NOT NULL,\r\n",
                "\t[Name] [nvarchar](100) NOT NULL,\r\n",
                "\t[GeoFence] [geography] NOT NULL\r\n",
                ") \r\n",
                "GO\r\n",
                "ALTER TABLE [dbo].[GeoFences] ADD PRIMARY KEY CLUSTERED \r\n",
                "(\r\n",
                "\t[Id] ASC\r\n",
                ")\r\n",
                "GO\r\n",
                "ALTER TABLE [dbo].[GeoFences] ADD DEFAULT (NEXT VALUE FOR [dbo].[global]) FOR [Id]\r\n",
                "GO\r\n",
                "CREATE SPATIAL INDEX [ixsp] ON [dbo].[GeoFences]\r\n",
                "(\r\n",
                "\t[GeoFence]\r\n",
                ") USING GEOGRAPHY_AUTO_GRID \r\n",
                "GO\r\n",
                "\r\n",
                "-- Create a GeoFence\r\n",
                "INSERT INTO dbo.[GeoFences] \r\n",
                "\t([Name], [GeoFence]) \r\n",
                "VALUES\r\n",
                "\t('Crossroads', 0xE6100000010407000000B4A78EA822CF4740E8D7539530895EC03837D51CEACE4740E80BFBE630895EC0ECD7DF53EACE4740E81B2C50F0885EC020389F0D03CF4740E99BD2A1F0885EC00CB8BEB203CF4740E9DB04FC23895EC068C132B920CF4740E9DB04FC23895EC0B4A78EA822CF4740E8D7539530895EC001000000020000000001000000FFFFFFFF0000000003);\r\n",
                "GO\r\n",
                ""
            ],
            "metadata": {
                "azdata_cell_guid": "1cc9823a-4b83-4e91-a36f-8b503abf0347",
                "language": "sql"
            },
            "outputs": [
                {
                    "output_type": "display_data",
                    "data": {
                        "text/html": "Commands completed successfully."
                    },
                    "metadata": {}
                },
                {
                    "output_type": "display_data",
                    "data": {
                        "text/html": "Commands completed successfully."
                    },
                    "metadata": {}
                },
                {
                    "output_type": "display_data",
                    "data": {
                        "text/html": "Commands completed successfully."
                    },
                    "metadata": {}
                },
                {
                    "output_type": "display_data",
                    "data": {
                        "text/html": "Commands completed successfully."
                    },
                    "metadata": {}
                },
                {
                    "output_type": "display_data",
                    "data": {
                        "text/html": "Commands completed successfully."
                    },
                    "metadata": {}
                },
                {
                    "output_type": "display_data",
                    "data": {
                        "text/html": "(1 row affected)"
                    },
                    "metadata": {}
                },
                {
                    "output_type": "display_data",
                    "data": {
                        "text/html": "Total execution time: 00:00:00.418"
                    },
                    "metadata": {}
                }
            ],
            "execution_count": 9
        },
        {
            "cell_type": "markdown",
            "source": [
                "### Create table to track activity in the GeoFence\n",
                "\n",
                "Next, create a system-versioned table to keep track of what activity is currently happening within the GeoFence. This means tracking buses entering, exiting, and staying within a given GeoFence. Another table within that table will serve as a histroical log for all activity."
            ],
            "metadata": {
                "azdata_cell_guid": "46ac87ea-ab53-4c87-9b41-57a3b96924a0"
            }
        },
        {
            "cell_type": "code",
            "source": [
                "CREATE TABLE [dbo].[GeoFencesActive] \r\n",
                "(\r\n",
                "\t[Id] [int] IDENTITY(1,1) NOT NULL PRIMARY KEY CLUSTERED,\r\n",
                "\t[VehicleId] [int] NOT NULL,\r\n",
                "\t[DirectionId] [int] NOT NULL,\r\n",
                "\t[GeoFenceId] [int] NOT NULL,\r\n",
                "\t[SysStartTime] [datetime2](7) GENERATED ALWAYS AS ROW START NOT NULL,\r\n",
                "\t[SysEndTime] [datetime2](7) GENERATED ALWAYS AS ROW END NOT NULL,\r\n",
                "\tPERIOD FOR SYSTEM_TIME ([SysStartTime], [SysEndTime])\r\n",
                ")\r\n",
                "WITH ( SYSTEM_VERSIONING = ON ( HISTORY_TABLE = [dbo].[GeoFencesActiveHistory] ) )\r\n",
                "GO"
            ],
            "metadata": {
                "azdata_cell_guid": "3e3da57b-2132-4788-b46c-20374d080b2f",
                "language": "sql"
            },
            "outputs": [
                {
                    "output_type": "display_data",
                    "data": {
                        "text/html": "Commands completed successfully."
                    },
                    "metadata": {}
                },
                {
                    "output_type": "display_data",
                    "data": {
                        "text/html": "Total execution time: 00:00:00.071"
                    },
                    "metadata": {}
                }
            ],
            "execution_count": 10
        },
        {
            "cell_type": "markdown",
            "source": [
                "### Create a table to store real-time bus data\n",
                "\n",
                "You'll need one last table to store the real-time bus data as it comes in."
            ],
            "metadata": {
                "azdata_cell_guid": "c8d2f9b4-af0e-48c2-a594-e21bb7e297a7"
            }
        },
        {
            "cell_type": "code",
            "source": [
                "CREATE TABLE [dbo].[BusData](\r\n",
                "\t[Id] [int] IDENTITY(1,1) NOT NULL,\r\n",
                "\t[DirectionId] [int] NOT NULL,\r\n",
                "\t[RouteId] [int] NOT NULL,\r\n",
                "\t[VehicleId] [int] NOT NULL,\r\n",
                "\t[Location] [geography] NOT NULL,\r\n",
                "\t[TimestampUTC] [datetime2](7) NOT NULL,\r\n",
                "\t[ReceivedAtUTC] [datetime2](7) NOT NULL\r\n",
                ")\r\n",
                "GO\r\n",
                "ALTER TABLE [dbo].[BusData] ADD DEFAULT (SYSUTCDATETIME()) FOR [ReceivedAtUTC]\r\n",
                "GO\r\n",
                "ALTER TABLE [dbo].[BusData] ADD PRIMARY KEY CLUSTERED \r\n",
                "(\r\n",
                "\t[Id] ASC\r\n",
                ") \r\n",
                "GO\r\n",
                "CREATE NONCLUSTERED INDEX [ix1] ON [dbo].[BusData]\r\n",
                "(\r\n",
                "\t[ReceivedAtUTC] DESC\r\n",
                ") \r\n",
                "GO\r\n",
                "CREATE SPATIAL INDEX [ixsp] ON [dbo].[BusData]\r\n",
                "(\r\n",
                "\t[Location]\r\n",
                ") USING GEOGRAPHY_AUTO_GRID \r\n",
                "GO"
            ],
            "metadata": {
                "azdata_cell_guid": "59797569-2711-4675-ab8a-532e0e2a7c22",
                "language": "sql"
            },
            "outputs": [
                {
                    "output_type": "display_data",
                    "data": {
                        "text/html": "Commands completed successfully."
                    },
                    "metadata": {}
                },
                {
                    "output_type": "display_data",
                    "data": {
                        "text/html": "Commands completed successfully."
                    },
                    "metadata": {}
                },
                {
                    "output_type": "display_data",
                    "data": {
                        "text/html": "Commands completed successfully."
                    },
                    "metadata": {}
                },
                {
                    "output_type": "display_data",
                    "data": {
                        "text/html": "Commands completed successfully."
                    },
                    "metadata": {}
                },
                {
                    "output_type": "display_data",
                    "data": {
                        "text/html": "Commands completed successfully."
                    },
                    "metadata": {}
                },
                {
                    "output_type": "display_data",
                    "data": {
                        "text/html": "Total execution time: 00:00:00.183"
                    },
                    "metadata": {}
                }
            ],
            "execution_count": 11
        },
        {
            "cell_type": "markdown",
            "source": [
                "Confirm you've created the tables with the following."
            ],
            "metadata": {
                "azdata_cell_guid": "48c43e3d-b0d0-462a-aaab-da6ca728b2de"
            }
        },
        {
            "cell_type": "code",
            "source": [
                "SELECT * FROM INFORMATION_SCHEMA.TABLES WHERE TABLE_TYPE = 'BASE TABLE' AND TABLE_SCHEMA = 'dbo'"
            ],
            "metadata": {
                "azdata_cell_guid": "5619e4aa-306c-46e5-9779-699bb29e387a",
                "language": "sql"
            },
            "outputs": [
                {
                    "output_type": "display_data",
                    "data": {
                        "text/html": "(6 rows affected)"
                    },
                    "metadata": {}
                },
                {
                    "output_type": "display_data",
                    "data": {
                        "text/html": "Total execution time: 00:00:00.048"
                    },
                    "metadata": {}
                },
                {
                    "output_type": "execute_result",
                    "metadata": {},
                    "execution_count": 12,
                    "data": {
                        "application/vnd.dataresource+json": {
                            "schema": {
                                "fields": [
                                    {
                                        "name": "TABLE_CATALOG"
                                    },
                                    {
                                        "name": "TABLE_SCHEMA"
                                    },
                                    {
                                        "name": "TABLE_NAME"
                                    },
                                    {
                                        "name": "TABLE_TYPE"
                                    }
                                ]
                            },
                            "data": [
                                {
                                    "0": "david-weber-bus-db",
                                    "1": "dbo",
                                    "2": "Routes",
                                    "3": "BASE TABLE"
                                },
                                {
                                    "0": "david-weber-bus-db",
                                    "1": "dbo",
                                    "2": "MonitoredRoutes",
                                    "3": "BASE TABLE"
                                },
                                {
                                    "0": "david-weber-bus-db",
                                    "1": "dbo",
                                    "2": "GeoFences",
                                    "3": "BASE TABLE"
                                },
                                {
                                    "0": "david-weber-bus-db",
                                    "1": "dbo",
                                    "2": "GeoFencesActive",
                                    "3": "BASE TABLE"
                                },
                                {
                                    "0": "david-weber-bus-db",
                                    "1": "dbo",
                                    "2": "GeoFencesActiveHistory",
                                    "3": "BASE TABLE"
                                },
                                {
                                    "0": "david-weber-bus-db",
                                    "1": "dbo",
                                    "2": "BusData",
                                    "3": "BASE TABLE"
                                }
                            ]
                        },
                        "text/html": [
                            "<table>",
                            "<tr><th>TABLE_CATALOG</th><th>TABLE_SCHEMA</th><th>TABLE_NAME</th><th>TABLE_TYPE</th></tr>",
                            "<tr><td>david-weber-bus-db</td><td>dbo</td><td>Routes</td><td>BASE TABLE</td></tr>",
                            "<tr><td>david-weber-bus-db</td><td>dbo</td><td>MonitoredRoutes</td><td>BASE TABLE</td></tr>",
                            "<tr><td>david-weber-bus-db</td><td>dbo</td><td>GeoFences</td><td>BASE TABLE</td></tr>",
                            "<tr><td>david-weber-bus-db</td><td>dbo</td><td>GeoFencesActive</td><td>BASE TABLE</td></tr>",
                            "<tr><td>david-weber-bus-db</td><td>dbo</td><td>GeoFencesActiveHistory</td><td>BASE TABLE</td></tr>",
                            "<tr><td>david-weber-bus-db</td><td>dbo</td><td>BusData</td><td>BASE TABLE</td></tr>",
                            "</table>"
                        ]
                    }
                }
            ],
            "execution_count": 12
        }
    ]
}